{
 "cells": [
  {
   "cell_type": "markdown",
   "metadata": {},
   "source": [
    "# Parse dataset"
   ]
  },
  {
   "cell_type": "code",
   "execution_count": 1,
   "metadata": {},
   "outputs": [
    {
     "name": "stdout",
     "output_type": "stream",
     "text": [
      "PARSING DATASET\n",
      "\n",
      "Parsing  porcodioaugu.xml ...\n",
      "Parsing  porcodiolenz.xml ...\n"
     ]
    }
   ],
   "source": [
    "# LOAD DATASET\n",
    "import os\n",
    "from collections import OrderedDict\n",
    "from load_data import parse_XML\n",
    "\n",
    "\n",
    "#Initialize data struct\n",
    "corpus_tg=\"/Users/chiarasemenzin/Desktop/MscProject/corpus/Tagged/\"\n",
    "corpus_ut=\"/Users/chiarasemenzin/Desktop/MscProject/corpus/Untagged/\"\n",
    "\n",
    "TAG_DATA=OrderedDict()\n",
    "\n",
    "\n",
    "# PARSE XML TAGGED\n",
    "print(\"PARSING DATASET\\n\")\n",
    "for root, dirs, files in os.walk(corpus_tg):\n",
    "    files = [ fi for fi in files if fi.endswith(\".xml\")]\n",
    "    for file in files:\n",
    "        print(\"Parsing \",file,\"...\")\n",
    "        phrase_list,lemmas=parse_XML.xml_iteration(corpus_tg+file)\n",
    "        TAG_DATA[file]=[phrase_list,lemmas]\n"
   ]
  },
  {
   "cell_type": "code",
   "execution_count": 2,
   "metadata": {
    "scrolled": false
   },
   "outputs": [
    {
     "name": "stdout",
     "output_type": "stream",
     "text": [
      "Parsing  1903AUGU-N.xml ...\n",
      "Parsing  1922AUGU.xml ...\n",
      "Parsing  1897LENZ-9.xml ...\n",
      "Parsing  1897LENZ-8.xml ...\n",
      "Parsing  1913GUEV-1.xml ...\n",
      "Parsing  1897LENZ-11.xml ...\n",
      "Parsing  1897LENZ-10.xml ...\n",
      "Parsing  1910AUGU-4.xml ...\n",
      "Parsing  1902AUGU.xml ...\n",
      "Parsing  1897LENZ-1.xml ...\n",
      "Parsing  1910AUGU-5.xml ...\n",
      "Parsing  1897LENZ-3.xml ...\n",
      "Parsing  1897LENZ-2.xml ...\n",
      "Parsing  1910AUGU-2.xml ...\n",
      "Parsing  1897LENZ-6.xml ...\n",
      "Parsing  1897LENZ-7.xml ...\n",
      "Parsing  1910AUGU-3.xml ...\n",
      "Parsing  1621VALD.xml ...\n",
      "Parsing  1910AUGU-1.xml ...\n",
      "Parsing  1897LENZ-5.xml ...\n",
      "Parsing  1897LENZ-4.xml ...\n",
      "Parsing  1765FEBR-2.xml ...\n",
      "Parsing  1765FEBR-3.xml ...\n",
      "Parsing  1765FEBR-1.xml ...\n",
      "Parsing  1903AUGU-1.xml ...\n",
      "Parsing  1930MOES.xml ...\n",
      "Done.\n"
     ]
    }
   ],
   "source": [
    "# PARSE XML UNTAGGED\n",
    "\n",
    "UNTAG_DATA=OrderedDict()\n",
    "\n",
    "for root, dirs, files in os.walk(corpus_ut):\n",
    "    files = [ fi for fi in files if fi.endswith(\".xml\")]\n",
    "    for file in files:\n",
    "        print(\"Parsing \",file,\"...\")\n",
    "        try:\n",
    "            phrase_list=parse_XML.xml_iteration(corpus_ut+file,tagged=False)\n",
    "            UNTAG_DATA[file]=phrase_list\n",
    "        except:\n",
    "            continue\n",
    "    print(\"Done.\")"
   ]
  },
  {
   "cell_type": "markdown",
   "metadata": {},
   "source": [
    "# Clean Data"
   ]
  },
  {
   "cell_type": "code",
   "execution_count": null,
   "metadata": {},
   "outputs": [],
   "source": []
  },
  {
   "cell_type": "markdown",
   "metadata": {},
   "source": [
    "# Get data stats"
   ]
  },
  {
   "cell_type": "code",
   "execution_count": 3,
   "metadata": {},
   "outputs": [],
   "source": [
    "## GET FREQUENCIES FUNCT DEF\n",
    "def get_freqs(pool):\n",
    "    freqs = {}\n",
    "    for word in pool:\n",
    "        if word not in freqs:\n",
    "            freqs[word] = 1\n",
    "        else:\n",
    "            freqs[word] += 1\n",
    "    sorted_fr=sorted(freqs.items(), key=lambda x:x[1])\n",
    "    sorted_fr.reverse()\n",
    "    return sorted_fr\n",
    "\n"
   ]
  },
  {
   "cell_type": "code",
   "execution_count": 14,
   "metadata": {},
   "outputs": [
    {
     "name": "stdout",
     "output_type": "stream",
     "text": [
      "Total untagged tokens:  116548\n",
      "\n",
      "Total untagged unique terms:  34872\n",
      "\n",
      "Top 10 types:  [('feichi', 2145), ('piam', 1965), ('kiñe', 1800), ('tañi', 1239), ('mapu', 1081), ('veimeu', 837), ('piŋei', 696), ('tëfachi', 693), ('dios', 636), ('domo', 614)]\n",
      "\n",
      "Sum frequencies top 10:  11706\n"
     ]
    }
   ],
   "source": [
    "## POOL UNTAGGED DATA\n",
    "UNTAG_pool=[]\n",
    "for key, value in UNTAG_DATA.items():\n",
    "    for w in value:\n",
    "        UNTAG_pool.append(w)\n",
    "\n",
    "top_terms=get_freqs(UNTAG_pool)\n",
    "\n",
    "print(\"Total untagged tokens: \",(len(UNTAG_pool)))\n",
    "print(\"\\nTotal untagged unique terms: \",(len(top_terms)))\n",
    "print(\"\\nTop 10 types: \",top_terms[0:10])\n",
    "print(\"\\nSum frequencies top 10: \",sum([pair[1] for pair in top_terms[0:10]]))"
   ]
  },
  {
   "cell_type": "code",
   "execution_count": 13,
   "metadata": {},
   "outputs": [
    {
     "data": {
      "text/plain": [
       "<matplotlib.axes._subplots.AxesSubplot at 0x1a1bbb8da0>"
      ]
     },
     "execution_count": 13,
     "metadata": {},
     "output_type": "execute_result"
    },
    {
     "data": {
      "image/png": "[encoded data removed]",
      "text/plain": [
       "<matplotlib.figure.Figure at 0x1a1bbb86d8>"
      ]
     },
     "metadata": {},
     "output_type": "display_data"
    }
   ],
   "source": [
    "# 1/3 of the dataset is covered by the top 10 words\n",
    "# Zipfff\n",
    "\n",
    "import pandas \n",
    "import matplotlib.pyplot as plt\n",
    "\n",
    "freqdf = pandas.DataFrame(top_terms[0:20], columns=['Word', 'Count']).set_index('Word')\n",
    "freqdf.plot.barh()\n"
   ]
  },
  {
   "cell_type": "code",
   "execution_count": 107,
   "metadata": {},
   "outputs": [
    {
     "name": "stdout",
     "output_type": "stream",
     "text": [
      "Total tagged tokens:  3962\n",
      "Total types:  813\n"
     ]
    }
   ],
   "source": [
    "## POOL TAGGED DATA\n",
    "\n",
    "pool_tagged_sources=[]\n",
    "pool_tagged_targets=[]\n",
    "\n",
    "for key,value in TAG_DATA.items():\n",
    "    sources=value[0]\n",
    "    targets=value[1]\n",
    "    for i in sources:\n",
    "        for word in i:\n",
    "            pool_tagged_sources.append(word)\n",
    "    for i in targets:\n",
    "        for word in i:\n",
    "            pool_tagged_targets.append(word)\n",
    "\n",
    "print(\"Total tagged tokens: \",(len((pool_tagged_sources))))\n",
    "print(\"Total types: \",(len(set(pool_tagged_sources))))"
   ]
  },
  {
   "cell_type": "code",
   "execution_count": 108,
   "metadata": {},
   "outputs": [
    {
     "name": "stdout",
     "output_type": "stream",
     "text": [
      "Total unseen words:  34436\n",
      "Total seen words:  436\n"
     ]
    }
   ],
   "source": [
    "## GET UNSEEN WORDS\n",
    "\n",
    "words=set(UNTAG_pool)\n",
    "wordsu=set(pool_tagged_sources)\n",
    "\n",
    "print(\"Total unseen words: \",len(set(words)-set(wordsu)))\n",
    "print(\"Total seen words: \",len(wordsu.intersection(words)))"
   ]
  },
  {
   "cell_type": "code",
   "execution_count": 109,
   "metadata": {},
   "outputs": [],
   "source": [
    "## Dummy Baseline"
   ]
  },
  {
   "cell_type": "markdown",
   "metadata": {},
   "source": [
    "# SPELLING NORMALIZER"
   ]
  },
  {
   "cell_type": "code",
   "execution_count": 110,
   "metadata": {},
   "outputs": [
    {
     "name": "stdout",
     "output_type": "stream",
     "text": [
      "PROCESSING UNTAGGED FILE\n",
      "PROCESSING UNTAGGED FILE\n",
      "PROCESSING UNTAGGED FILE\n",
      "PROCESSING UNTAGGED FILE\n",
      "PROCESSING UNTAGGED FILE\n",
      "PROCESSING UNTAGGED FILE\n",
      "PROCESSING UNTAGGED FILE\n",
      "PROCESSING UNTAGGED FILE\n",
      "PROCESSING UNTAGGED FILE\n",
      "PROCESSING UNTAGGED FILE\n",
      "PROCESSING UNTAGGED FILE\n",
      "PROCESSING UNTAGGED FILE\n",
      "PROCESSING UNTAGGED FILE\n",
      "PROCESSING UNTAGGED FILE\n",
      "PROCESSING UNTAGGED FILE\n",
      "PROCESSING UNTAGGED FILE\n",
      "PROCESSING UNTAGGED FILE\n",
      "PROCESSING UNTAGGED FILE\n",
      "PROCESSING UNTAGGED FILE\n",
      "PROCESSING UNTAGGED FILE\n",
      "PROCESSING UNTAGGED FILE\n",
      "PROCESSING UNTAGGED FILE\n",
      "PROCESSING UNTAGGED FILE\n",
      "PROCESSING UNTAGGED FILE\n",
      "PROCESSING UNTAGGED FILE\n",
      "PROCESSING TAGGED FILE\n",
      "PROCESSING TAGGED FILE\n",
      "PROCESSING UNTAGGED FILE\n",
      "PROCESSING UNTAGGED FILE\n",
      "PROCESSING UNTAGGED FILE\n",
      "PROCESSING UNTAGGED FILE\n",
      "PROCESSING UNTAGGED FILE\n",
      "PROCESSING UNTAGGED FILE\n",
      "PROCESSING UNTAGGED FILE\n",
      "PROCESSING UNTAGGED FILE\n",
      "PROCESSING UNTAGGED FILE\n",
      "PROCESSING UNTAGGED FILE\n",
      "PROCESSING UNTAGGED FILE\n",
      "PROCESSING UNTAGGED FILE\n",
      "PROCESSING UNTAGGED FILE\n",
      "PROCESSING UNTAGGED FILE\n",
      "PROCESSING UNTAGGED FILE\n",
      "PROCESSING UNTAGGED FILE\n",
      "PROCESSING UNTAGGED FILE\n",
      "PROCESSING UNTAGGED FILE\n",
      "PROCESSING UNTAGGED FILE\n",
      "PROCESSING UNTAGGED FILE\n",
      "PROCESSING UNTAGGED FILE\n",
      "PROCESSING UNTAGGED FILE\n",
      "PROCESSING UNTAGGED FILE\n",
      "PROCESSING UNTAGGED FILE\n",
      "PROCESSING UNTAGGED FILE\n",
      "PROCESSING TAGGED FILE\n",
      "PROCESSING TAGGED FILE\n",
      "PROCESSING UNTAGGED FILE\n",
      "PROCESSING UNTAGGED FILE\n",
      "PROCESSING UNTAGGED FILE\n",
      "PROCESSING UNTAGGED FILE\n",
      "PROCESSING UNTAGGED FILE\n",
      "PROCESSING UNTAGGED FILE\n",
      "PROCESSING UNTAGGED FILE\n",
      "PROCESSING UNTAGGED FILE\n",
      "PROCESSING UNTAGGED FILE\n",
      "PROCESSING UNTAGGED FILE\n",
      "PROCESSING UNTAGGED FILE\n",
      "PROCESSING UNTAGGED FILE\n",
      "PROCESSING UNTAGGED FILE\n",
      "PROCESSING UNTAGGED FILE\n",
      "PROCESSING UNTAGGED FILE\n",
      "PROCESSING UNTAGGED FILE\n",
      "PROCESSING UNTAGGED FILE\n",
      "PROCESSING UNTAGGED FILE\n",
      "PROCESSING UNTAGGED FILE\n",
      "PROCESSING UNTAGGED FILE\n",
      "PROCESSING UNTAGGED FILE\n",
      "PROCESSING UNTAGGED FILE\n",
      "PROCESSING UNTAGGED FILE\n",
      "PROCESSING UNTAGGED FILE\n",
      "PROCESSING UNTAGGED FILE\n",
      "PROCESSING TAGGED FILE\n",
      "PROCESSING TAGGED FILE\n",
      "PROCESSING UNTAGGED FILE\n",
      "PROCESSING UNTAGGED FILE\n",
      "PROCESSING UNTAGGED FILE\n",
      "PROCESSING UNTAGGED FILE\n",
      "PROCESSING UNTAGGED FILE\n",
      "PROCESSING UNTAGGED FILE\n",
      "PROCESSING UNTAGGED FILE\n",
      "PROCESSING UNTAGGED FILE\n",
      "PROCESSING UNTAGGED FILE\n",
      "PROCESSING UNTAGGED FILE\n",
      "PROCESSING UNTAGGED FILE\n",
      "PROCESSING UNTAGGED FILE\n",
      "PROCESSING UNTAGGED FILE\n",
      "PROCESSING UNTAGGED FILE\n",
      "PROCESSING UNTAGGED FILE\n",
      "PROCESSING UNTAGGED FILE\n",
      "PROCESSING UNTAGGED FILE\n",
      "PROCESSING UNTAGGED FILE\n",
      "PROCESSING UNTAGGED FILE\n",
      "PROCESSING UNTAGGED FILE\n",
      "PROCESSING UNTAGGED FILE\n",
      "PROCESSING UNTAGGED FILE\n",
      "PROCESSING UNTAGGED FILE\n",
      "PROCESSING UNTAGGED FILE\n",
      "PROCESSING UNTAGGED FILE\n",
      "PROCESSING TAGGED FILE\n",
      "PROCESSING TAGGED FILE\n",
      "PROCESSING UNTAGGED FILE\n",
      "PROCESSING UNTAGGED FILE\n",
      "PROCESSING UNTAGGED FILE\n",
      "PROCESSING UNTAGGED FILE\n",
      "PROCESSING UNTAGGED FILE\n",
      "PROCESSING UNTAGGED FILE\n",
      "PROCESSING UNTAGGED FILE\n",
      "PROCESSING UNTAGGED FILE\n",
      "PROCESSING UNTAGGED FILE\n",
      "PROCESSING UNTAGGED FILE\n",
      "PROCESSING UNTAGGED FILE\n",
      "PROCESSING UNTAGGED FILE\n",
      "PROCESSING UNTAGGED FILE\n",
      "PROCESSING UNTAGGED FILE\n",
      "PROCESSING UNTAGGED FILE\n",
      "PROCESSING UNTAGGED FILE\n",
      "PROCESSING UNTAGGED FILE\n",
      "PROCESSING UNTAGGED FILE\n",
      "PROCESSING UNTAGGED FILE\n",
      "PROCESSING UNTAGGED FILE\n",
      "PROCESSING UNTAGGED FILE\n",
      "PROCESSING UNTAGGED FILE\n",
      "PROCESSING UNTAGGED FILE\n",
      "PROCESSING UNTAGGED FILE\n",
      "PROCESSING UNTAGGED FILE\n",
      "PROCESSING TAGGED FILE\n",
      "PROCESSING TAGGED FILE\n",
      "PROCESSING UNTAGGED FILE\n",
      "PROCESSING UNTAGGED FILE\n",
      "PROCESSING UNTAGGED FILE\n",
      "PROCESSING UNTAGGED FILE\n",
      "PROCESSING UNTAGGED FILE\n",
      "PROCESSING UNTAGGED FILE\n",
      "PROCESSING UNTAGGED FILE\n",
      "PROCESSING UNTAGGED FILE\n",
      "PROCESSING UNTAGGED FILE\n",
      "PROCESSING UNTAGGED FILE\n",
      "PROCESSING UNTAGGED FILE\n",
      "PROCESSING UNTAGGED FILE\n",
      "PROCESSING UNTAGGED FILE\n",
      "PROCESSING UNTAGGED FILE\n",
      "PROCESSING UNTAGGED FILE\n",
      "PROCESSING UNTAGGED FILE\n",
      "PROCESSING UNTAGGED FILE\n",
      "PROCESSING UNTAGGED FILE\n",
      "PROCESSING UNTAGGED FILE\n",
      "PROCESSING UNTAGGED FILE\n",
      "PROCESSING UNTAGGED FILE\n",
      "PROCESSING UNTAGGED FILE\n",
      "PROCESSING UNTAGGED FILE\n",
      "PROCESSING UNTAGGED FILE\n",
      "PROCESSING UNTAGGED FILE\n",
      "PROCESSING TAGGED FILE\n",
      "PROCESSING TAGGED FILE\n",
      "PROCESSING UNTAGGED FILE\n",
      "PROCESSING UNTAGGED FILE\n",
      "PROCESSING UNTAGGED FILE\n",
      "PROCESSING UNTAGGED FILE\n",
      "PROCESSING UNTAGGED FILE\n",
      "PROCESSING UNTAGGED FILE\n",
      "PROCESSING UNTAGGED FILE\n",
      "PROCESSING UNTAGGED FILE\n",
      "PROCESSING UNTAGGED FILE\n",
      "PROCESSING UNTAGGED FILE\n",
      "PROCESSING UNTAGGED FILE\n",
      "PROCESSING UNTAGGED FILE\n",
      "PROCESSING UNTAGGED FILE\n",
      "PROCESSING UNTAGGED FILE\n",
      "PROCESSING UNTAGGED FILE\n",
      "PROCESSING UNTAGGED FILE\n",
      "PROCESSING UNTAGGED FILE\n",
      "PROCESSING UNTAGGED FILE\n",
      "PROCESSING UNTAGGED FILE\n",
      "PROCESSING UNTAGGED FILE\n",
      "PROCESSING UNTAGGED FILE\n",
      "PROCESSING UNTAGGED FILE\n",
      "PROCESSING UNTAGGED FILE\n",
      "PROCESSING UNTAGGED FILE\n",
      "PROCESSING UNTAGGED FILE\n",
      "PROCESSING TAGGED FILE\n",
      "PROCESSING TAGGED FILE\n",
      "PROCESSING UNTAGGED FILE\n",
      "PROCESSING UNTAGGED FILE\n",
      "PROCESSING UNTAGGED FILE\n",
      "PROCESSING UNTAGGED FILE\n",
      "PROCESSING UNTAGGED FILE\n",
      "PROCESSING UNTAGGED FILE\n",
      "PROCESSING UNTAGGED FILE\n",
      "PROCESSING UNTAGGED FILE\n",
      "PROCESSING UNTAGGED FILE\n",
      "PROCESSING UNTAGGED FILE\n",
      "PROCESSING UNTAGGED FILE\n",
      "PROCESSING UNTAGGED FILE\n",
      "PROCESSING UNTAGGED FILE\n",
      "PROCESSING UNTAGGED FILE\n",
      "PROCESSING UNTAGGED FILE\n",
      "PROCESSING UNTAGGED FILE\n",
      "PROCESSING UNTAGGED FILE\n",
      "PROCESSING UNTAGGED FILE\n",
      "PROCESSING UNTAGGED FILE\n",
      "PROCESSING UNTAGGED FILE\n",
      "PROCESSING UNTAGGED FILE\n",
      "PROCESSING UNTAGGED FILE\n",
      "PROCESSING UNTAGGED FILE\n",
      "PROCESSING UNTAGGED FILE\n",
      "PROCESSING UNTAGGED FILE\n",
      "PROCESSING TAGGED FILE\n",
      "PROCESSING TAGGED FILE\n",
      "PROCESSING UNTAGGED FILE\n",
      "PROCESSING UNTAGGED FILE\n",
      "PROCESSING UNTAGGED FILE\n",
      "PROCESSING UNTAGGED FILE\n",
      "PROCESSING UNTAGGED FILE\n",
      "PROCESSING UNTAGGED FILE\n",
      "PROCESSING UNTAGGED FILE\n",
      "PROCESSING UNTAGGED FILE\n",
      "PROCESSING UNTAGGED FILE\n",
      "PROCESSING UNTAGGED FILE\n",
      "PROCESSING UNTAGGED FILE\n",
      "PROCESSING UNTAGGED FILE\n",
      "PROCESSING UNTAGGED FILE\n",
      "PROCESSING UNTAGGED FILE\n",
      "PROCESSING UNTAGGED FILE\n",
      "PROCESSING UNTAGGED FILE\n",
      "PROCESSING UNTAGGED FILE\n",
      "PROCESSING UNTAGGED FILE\n",
      "PROCESSING UNTAGGED FILE\n",
      "PROCESSING UNTAGGED FILE\n",
      "PROCESSING UNTAGGED FILE\n",
      "PROCESSING UNTAGGED FILE\n",
      "PROCESSING UNTAGGED FILE\n",
      "PROCESSING UNTAGGED FILE\n",
      "PROCESSING UNTAGGED FILE\n",
      "PROCESSING TAGGED FILE\n",
      "PROCESSING TAGGED FILE\n",
      "PROCESSING UNTAGGED FILE\n",
      "PROCESSING UNTAGGED FILE\n",
      "PROCESSING UNTAGGED FILE\n",
      "PROCESSING UNTAGGED FILE\n",
      "PROCESSING UNTAGGED FILE\n",
      "PROCESSING UNTAGGED FILE\n",
      "PROCESSING UNTAGGED FILE\n",
      "PROCESSING UNTAGGED FILE\n",
      "PROCESSING UNTAGGED FILE\n",
      "PROCESSING UNTAGGED FILE\n",
      "PROCESSING UNTAGGED FILE\n",
      "PROCESSING UNTAGGED FILE\n",
      "PROCESSING UNTAGGED FILE\n",
      "PROCESSING UNTAGGED FILE\n",
      "PROCESSING UNTAGGED FILE\n",
      "PROCESSING UNTAGGED FILE\n",
      "PROCESSING UNTAGGED FILE\n",
      "PROCESSING UNTAGGED FILE\n",
      "PROCESSING UNTAGGED FILE\n",
      "PROCESSING UNTAGGED FILE\n",
      "PROCESSING UNTAGGED FILE\n",
      "PROCESSING UNTAGGED FILE\n",
      "PROCESSING UNTAGGED FILE\n",
      "PROCESSING UNTAGGED FILE\n",
      "PROCESSING UNTAGGED FILE\n",
      "PROCESSING TAGGED FILE\n",
      "PROCESSING TAGGED FILE\n"
     ]
    }
   ],
   "source": [
    "# SPELL CHANGE \n",
    "\n",
    "from load_data import process_spelling\n",
    "\n",
    "changes=((\"ʎ\",\"ll\"),(\"t'\",\"tr\"),(\"ə\",\"ü\"),(\"v\",\"f\"),(\"k\",\"c\"),(\"ù\",\"ü\"),(\"ŋ\",\"ng\"),(\"í\",\"i\"),(\"á\",\"a\"),(\"l'\",\"l\"))\n",
    "\n",
    "UNTAG_DATA_norm=process_spelling.process_spelling(UNTAG_DATA,changes[0])\n",
    "TAG_DATA_norm=process_spelling.process_spelling(TAG_DATA,changes[0])\n",
    "\n",
    "UNTAG_DATA_norm=process_spelling.process_spelling(UNTAG_DATA_norm,changes[1])\n",
    "TAG_DATA_norm=process_spelling.process_spelling(TAG_DATA_norm,changes[1])\n",
    "\n",
    "UNTAG_DATA_norm=process_spelling.process_spelling(UNTAG_DATA_norm,changes[2])\n",
    "TAG_DATA_norm=process_spelling.process_spelling(TAG_DATA_norm,changes[2])\n",
    "\n",
    "UNTAG_DATA_norm=process_spelling.process_spelling(UNTAG_DATA_norm,changes[3])\n",
    "TAG_DATA_norm=process_spelling.process_spelling(TAG_DATA_norm,changes[3])\n",
    "\n",
    "UNTAG_DATA_norm=process_spelling.process_spelling(UNTAG_DATA_norm,changes[4])\n",
    "TAG_DATA_norm=process_spelling.process_spelling(TAG_DATA_norm,changes[4])\n",
    "\n",
    "UNTAG_DATA_norm=process_spelling.process_spelling(UNTAG_DATA_norm,changes[5])\n",
    "TAG_DATA_norm=process_spelling.process_spelling(TAG_DATA_norm,changes[5])\n",
    "\n",
    "UNTAG_DATA_norm=process_spelling.process_spelling(UNTAG_DATA_norm,changes[6])\n",
    "TAG_DATA_norm=process_spelling.process_spelling(TAG_DATA_norm,changes[6])\n",
    "\n",
    "UNTAG_DATA_norm=process_spelling.process_spelling(UNTAG_DATA_norm,changes[7])\n",
    "TAG_DATA_norm=process_spelling.process_spelling(TAG_DATA_norm,changes[7])\n",
    "\n",
    "UNTAG_DATA_norm=process_spelling.process_spelling(UNTAG_DATA_norm,changes[8])\n",
    "TAG_DATA_norm=process_spelling.process_spelling(TAG_DATA_norm,changes[8])\n",
    "\n",
    "UNTAG_DATA_norm=process_spelling.process_spelling(UNTAG_DATA_norm,changes[9])\n",
    "TAG_DATA_norm=process_spelling.process_spelling(TAG_DATA_norm,changes[9])"
   ]
  },
  {
   "cell_type": "code",
   "execution_count": 111,
   "metadata": {},
   "outputs": [
    {
     "name": "stdout",
     "output_type": "stream",
     "text": [
      "Total tagged tokens:  3962\n",
      "Total unique words:  811\n",
      "\n",
      "Total untagged tokens:  116548\n",
      "Total unique words:  33533\n"
     ]
    }
   ],
   "source": [
    "# POOL NORMALIZED DATA\n",
    "\n",
    "# TAG\n",
    "\n",
    "pool_tag_s_norm=[]\n",
    "pool_tag_t_norm=[]\n",
    "\n",
    "for key,value in TAG_DATA_norm.items():\n",
    "    sources=value[0]\n",
    "    targets=value[1]\n",
    "    for i in sources:\n",
    "        for word in i:\n",
    "            pool_tag_s_norm.append(word)\n",
    "    for t in targets:\n",
    "        for word in t:\n",
    "            pool_tag_t_norm.append(word)\n",
    "\n",
    "print(\"Total tagged tokens: \",(len((pool_tag_t_norm))))\n",
    "print(\"Total unique words: \",(len(set(pool_tag_t_norm))))\n",
    "\n",
    "# UNTAG\n",
    "\n",
    "## POOL UNTAGGED DATA\n",
    "UNTAG_pool_norm=[]\n",
    "for key, value in UNTAG_DATA_norm.items():\n",
    "    for w in value:\n",
    "        UNTAG_pool_norm.append(w)\n",
    "\n",
    "print(\"\\nTotal untagged tokens: \",len(UNTAG_pool_norm))\n",
    "print(\"Total unique words: \",len(set(UNTAG_pool_norm)))\n",
    "\n"
   ]
  },
  {
   "cell_type": "code",
   "execution_count": 112,
   "metadata": {},
   "outputs": [
    {
     "name": "stdout",
     "output_type": "stream",
     "text": [
      "Total unseen words:  33092\n",
      "\n",
      "Total seen words:  441\n"
     ]
    }
   ],
   "source": [
    "words=set(UNTAG_pool_norm)\n",
    "wordsu=set(pool_tag_s_norm)\n",
    "\n",
    "print(\"Total unseen words: \",len(set(words)-set(wordsu)))\n",
    "print(\"\\nTotal seen words: \",len(wordsu.intersection(set(words))))"
   ]
  },
  {
   "cell_type": "markdown",
   "metadata": {},
   "source": [
    "Less unique terms, less unseen words."
   ]
  },
  {
   "cell_type": "code",
   "execution_count": null,
   "metadata": {},
   "outputs": [],
   "source": []
  },
  {
   "cell_type": "markdown",
   "metadata": {},
   "source": [
    "# FORMAT FOR LEMATUS"
   ]
  },
  {
   "cell_type": "markdown",
   "metadata": {},
   "source": [
    "Baseline data"
   ]
  },
  {
   "cell_type": "code",
   "execution_count": 113,
   "metadata": {},
   "outputs": [],
   "source": [
    "from sklearn.cross_validation import train_test_split\n",
    "\n",
    "X_train, X_test, y_train, y_test = train_test_split(\n",
    "    pool_tagged_sources, pool_tagged_targets, test_size=0.2, random_state=1)\n",
    "X_train, X_val, y_train, y_val = train_test_split(\n",
    "    pool_tagged_sources, pool_tagged_targets, test_size=0.2, random_state=1)"
   ]
  },
  {
   "cell_type": "code",
   "execution_count": 114,
   "metadata": {},
   "outputs": [
    {
     "name": "stdout",
     "output_type": "stream",
     "text": [
      "Total unseen words:  83\n",
      "{'kəlto', 'pinu', 'mauwən', 'ngei', 'kuen', 'mansun', 'koilla', 'məŋel', 'inauq', 'dumiñ', 'miñche', 'inchiñ', \"t'avye\", 'weʎe', 'künu', 'raq', 'kude', 'wəda', 'kolon', 'mettewe', 'tuu', 'ngallolüi', 'küdu', 'puchu', 'makuñ', 'inaltun', 'kümen', 'ʎazu', 'engun', 'təveichi', 'wəñó', 'ukev', 'küntro', 'keli', \"üt'üv\", 'vemŋechi', 'ad', 'kəpa-', 'to', 'alü', 'tie', 'kuse', 'nal', 'pala', 'vachi', \"wüt'uv\", 'yüŋe', 'él', 'wakeŋkü', 'kochü', 'wiw', 'eñum', 'ah', 'wekun', 'libro', 'maŋkada', \"t'okür\", 'inavül', 'putu', 'kompadre', 'avü', 'ülmen', 'ülkatu', 'pimu', 'təfá', 'taiñ', 'ovicha', 'chiem', 'arol', 'ngətantu', 'rüv', 'aŋk', 'akü', 'ŋütantu', 'payun', 'palí', 'ʎoda', 'venten', 'troki', 'kuifi', \"t'ana\", 'ŋila', 'awü'}\n",
      "\n",
      "Total seen words:  253\n"
     ]
    }
   ],
   "source": [
    "words=set(X_test)\n",
    "wordsu=set(X_train)\n",
    "\n",
    "print(\"Total unseen words: \",len(set(words)-set(wordsu)))\n",
    "print(set(words)-set(wordsu))\n",
    "print(\"\\nTotal seen words: \",len(wordsu.intersection(set(words))))"
   ]
  },
  {
   "cell_type": "markdown",
   "metadata": {},
   "source": [
    "# Spell Checked"
   ]
  },
  {
   "cell_type": "code",
   "execution_count": 117,
   "metadata": {},
   "outputs": [],
   "source": [
    "from sklearn.cross_validation import train_test_split\n",
    "\n",
    "X_train, X_test, y_train, y_test = train_test_split(\n",
    "    pool_tag_s_norm, pool_tag_t_norm, test_size=0.2, random_state=1)\n",
    "X_train, X_val, y_train, y_val = train_test_split(\n",
    "    pool_tag_s_norm, pool_tag_t_norm, test_size=0.2, random_state=1)"
   ]
  },
  {
   "cell_type": "code",
   "execution_count": 118,
   "metadata": {},
   "outputs": [
    {
     "name": "stdout",
     "output_type": "stream",
     "text": [
      "Total unseen words:  73\n",
      "{'acü', 'angc', 'pinu', 'ngei', 'mansun', 'cülto', 'coilla', 'tüfa', 'cüntro', 'dumiñ', 'inauq', 'mauwün', 'miñche', 'inchiñ', 'welle', 'raq', 'ucef', 'cüpa-', 'ngila', 'mettewe', 'cuen', 'tuu', 'ngallolüi', 'mangcada', 'fenten', 'puchu', 'cüdu', 'inaltun', 'cümen', 'yünge', 'cude', 'tüfeichi', 'engun', 'wütruf', 'ad', 'to', 'alü', 'tie', 'colon', 'nal', 'pala', 'cünu', 'trafye', 'lloda', 'oficha', 'él', 'rüf', 'wiw', 'müngel', 'wecun', 'eñum', 'ah', 'fachi', 'libro', 'afü', 'wacengcü', 'cuse', 'putu', 'ülmen', 'chiem', 'celi', 'taiñ', 'pimu', 'arol', 'compadre', 'wüñó', 'trocür', 'payun', 'macuñ', 'ülcatu', 'cochü', 'llazu', 'awü'}\n",
      "\n",
      "Total seen words:  242\n"
     ]
    }
   ],
   "source": [
    "words=set(X_test)\n",
    "wordsu=set(X_train)\n",
    "\n",
    "print(\"Total unseen words: \",len(set(words)-set(wordsu)))\n",
    "print(set(words)-set(wordsu))\n",
    "print(\"\\nTotal seen words: \",len(wordsu.intersection(set(words))))"
   ]
  },
  {
   "cell_type": "markdown",
   "metadata": {},
   "source": [
    "# write to file - no context\n"
   ]
  },
  {
   "cell_type": "code",
   "execution_count": 119,
   "metadata": {},
   "outputs": [],
   "source": [
    "#with open('lematus/data/languages/Mapu-' + str(k) + '-char-context-' + str(n) + '-semi/train-sources', \"w\") as s:\n",
    "    #with open('lematus/data/languages/Mapu-' + str(k) + '-char-context-' + str(n) + '-semi/train-targets', \"w\") as t:\n",
    "\n",
    "\n",
    "# TRAIN\n",
    "with open('corpus/Tagged/train-sources', \"w\") as s:\n",
    "    with open('corpus/Tagged/train-targets', \"w\") as t:\n",
    "        for word, lemma in zip(X_train,y_train):\n",
    "            word=word.lower()\n",
    "            lemma=lemma.lower()\n",
    "            word=\" \".join(word)\n",
    "            lemma=\" \".join(lemma)\n",
    "            s.write(\"{}\\n\".format(word))\n",
    "            t.write(\"{}\\n\".format(lemma))\n",
    "s.close()\n",
    "t.close()\n",
    "\n",
    "\n",
    "# DEV \n",
    "with open('corpus/Tagged/dev-sources', \"w\") as s:\n",
    "    with open('corpus/Tagged/dev-targets', \"w\") as t:\n",
    "        for word, lemma in zip(X_val,y_val):\n",
    "            word=word.lower()\n",
    "            lemma=lemma.lower()\n",
    "            word=\" \".join(word)\n",
    "            lemma=\" \".join(lemma)\n",
    "            s.write(\"{}\\n\".format(word))\n",
    "            t.write(\"{}\\n\".format(lemma))\n",
    "s.close()\n",
    "t.close()\n",
    "\n",
    "\n"
   ]
  },
  {
   "cell_type": "code",
   "execution_count": null,
   "metadata": {},
   "outputs": [],
   "source": [
    "# TEST - normal\n",
    "with open('corpus/Tagged/test-sources', \"w\") as s:\n",
    "    with open('corpus/Tagged/test-targets', \"w\") as t:\n",
    "        for word, lemma in zip(X_test,y_test):\n",
    "            word=word.lower()\n",
    "            lemma=lemma.lower()\n",
    "            word=\" \".join(word)\n",
    "            lemma=\" \".join(lemma)\n",
    "            s.write(\"{}\\n\".format(word))\n",
    "            t.write(\"{}\\n\".format(lemma))\n",
    "s.close()\n",
    "t.close()"
   ]
  },
  {
   "cell_type": "code",
   "execution_count": 120,
   "metadata": {},
   "outputs": [],
   "source": [
    "# TEST UNSEEN ONLY\n",
    "unseen_sources=\n",
    "unseen_targets=\n",
    "with open('corpus/Tagged/test-sources-unseen', \"w\") as s:\n",
    "    with open('corpus/Tagged/test-targets-unseen', \"w\") as t:\n",
    "        for word, lemma in zip(unseen_sources,unseen_targets):\n",
    "            word=word.lower()\n",
    "            lemma=lemma.lower()\n",
    "            word=\" \".join(word)\n",
    "            lemma=\" \".join(lemma)\n",
    "            s.write(\"{}\\n\".format(word))\n",
    "            t.write(\"{}\\n\".format(lemma))\n",
    "s.close()\n",
    "t.close()"
   ]
  },
  {
   "cell_type": "code",
   "execution_count": 95,
   "metadata": {},
   "outputs": [],
   "source": [
    "# TEST UNTAGGED\n",
    "from random import shuffle\n",
    "\n",
    "shuffle(UNTAG_pool)\n",
    "UNTAG_pool_shuffled=UNTAG_pool[0:700]\n",
    "with open('corpus/Tagged/test-sources-untag', \"w\") as s:\n",
    "    for word in UNTAG_pool_shuffled:\n",
    "        word=word.lower()\n",
    "        word=\" \".join(word)\n",
    "        s.write(\"{}\\n\".format(word))\n",
    "s.close()\n"
   ]
  },
  {
   "cell_type": "code",
   "execution_count": null,
   "metadata": {},
   "outputs": [],
   "source": [
    "#def format hard att\n"
   ]
  },
  {
   "cell_type": "code",
   "execution_count": null,
   "metadata": {},
   "outputs": [],
   "source": [
    "# check predictions \n",
    "# what it was doing\n",
    "# spelling \n",
    "# check unseen in test data and what is happening\n",
    "# check test targets\n",
    "\n",
    "#USE EXTRA TYPES"
   ]
  },
  {
   "cell_type": "code",
   "execution_count": null,
   "metadata": {},
   "outputs": [],
   "source": [
    "(porcodiaz[\"porcodiolenz.xml\"])"
   ]
  },
  {
   "cell_type": "code",
   "execution_count": null,
   "metadata": {},
   "outputs": [],
   "source": []
  }
 ],
 "metadata": {
  "kernelspec": {
   "display_name": "Python 3",
   "language": "python",
   "name": "python3"
  },
  "language_info": {
   "codemirror_mode": {
    "name": "ipython",
    "version": 3
   },
   "file_extension": ".py",
   "mimetype": "text/x-python",
   "name": "python",
   "nbconvert_exporter": "python",
   "pygments_lexer": "ipython3",
   "version": "3.6.8"
  }
 },
 "nbformat": 4,
 "nbformat_minor": 2
}
